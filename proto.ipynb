{
 "cells": [
  {
   "cell_type": "code",
   "execution_count": 1,
   "metadata": {},
   "outputs": [],
   "source": [
    "from pygit2 import Repository, Commit, GIT_SORT_TOPOLOGICAL, GIT_SORT_REVERSE"
   ]
  },
  {
   "cell_type": "code",
   "execution_count": 3,
   "metadata": {},
   "outputs": [],
   "source": [
    "repo = Repository('/Users/chingachgook/dev/django-like-queryset/.git')"
   ]
  },
  {
   "cell_type": "code",
   "execution_count": 94,
   "metadata": {},
   "outputs": [
    {
     "name": "stdout",
     "output_type": "stream",
     "text": [
      "pipipiska\n",
      " 6ff4e2adf606a2c57e779b949bb5a3a6bca3f431\n",
      "\n",
      "LLOOOOOL bad084a2e3de2389e042f4848d2199a260c1c302\n",
      "\n",
      "init\n",
      " a4748287500aa1c15722d52346f95e762f94cff0\n",
      "\n"
     ]
    }
   ],
   "source": [
    "commit = repo.get('a4748287500aa1c15722d52346f95e762f94cff0')\n",
    "children = []\n",
    "for c in repo.walk(repo.head.target, GIT_SORT_TOPOLOGICAL):\n",
    "    children.append(c)\n",
    "    print(c.message, c.id, end='\\n\\n')\n",
    "    if commit == c:\n",
    "        break"
   ]
  },
  {
   "cell_type": "code",
   "execution_count": 95,
   "metadata": {},
   "outputs": [
    {
     "name": "stdout",
     "output_type": "stream",
     "text": [
      "[]\n",
      "[d313b6038578ecd90ef41aa8c8bc64fcb6889662]\n",
      "[caea39fd0b81a68f77f9a99a9d54340412e391d5]\n"
     ]
    }
   ],
   "source": [
    "new_msg = {\n",
    "    'a4748287500aa1c15722d52346f95e762f94cff0': 'shpekis', \n",
    "    '6ff4e2adf606a2c57e779b949bb5a3a6bca3f431': 'haha classic...'\n",
    "}\n",
    "\n",
    "children_commits = []\n",
    "last_children = \"\"\n",
    "renamed = \"\"\n",
    "for ch in children[::-1]:\n",
    "    parents = [renamed if p.id == last_children else p.id for p in ch.parents]\n",
    "    c = repo.create_commit(None, \n",
    "                           ch.author,\n",
    "                           ch.committer,\n",
    "                           new_msg.get(str(ch.id), ch.message),\n",
    "                           ch.tree.id,\n",
    "                           parents)\n",
    "    renamed = c\n",
    "    last_children = ch.id\n",
    "    children_commits.append(c)\n",
    "    \n",
    "repo.references.get('refs/heads/master').set_target(children_commits[-1])"
   ]
  },
  {
   "cell_type": "code",
   "execution_count": null,
   "metadata": {},
   "outputs": [],
   "source": []
  }
 ],
 "metadata": {
  "kernelspec": {
   "display_name": "Python 3",
   "language": "python",
   "name": "python3"
  },
  "language_info": {
   "codemirror_mode": {
    "name": "ipython",
    "version": 3
   },
   "file_extension": ".py",
   "mimetype": "text/x-python",
   "name": "python",
   "nbconvert_exporter": "python",
   "pygments_lexer": "ipython3",
   "version": "3.7.4"
  }
 },
 "nbformat": 4,
 "nbformat_minor": 4
}
